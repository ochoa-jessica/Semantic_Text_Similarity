{
 "cells": [
  {
   "cell_type": "markdown",
   "metadata": {},
   "source": [
    "### Install Libraries Required"
   ]
  },
  {
   "cell_type": "code",
   "execution_count": 1,
   "metadata": {},
   "outputs": [
    {
     "name": "stdout",
     "output_type": "stream",
     "text": [
      "Collecting transformers\n",
      "\u001b[?25l  Downloading https://files.pythonhosted.org/packages/d8/b2/57495b5309f09fa501866e225c84532d1fd89536ea62406b2181933fb418/transformers-4.5.1-py3-none-any.whl (2.1MB)\n",
      "\u001b[K    100% |████████████████████████████████| 2.1MB 4.8MB/s ta 0:00:01\n",
      "\u001b[?25hCollecting hdbscan\n",
      "\u001b[?25l  Downloading https://files.pythonhosted.org/packages/32/bb/59a75bc5ac66a9b4f9b8f979e4545af0e98bb1ca4e6ae96b3b956b554223/hdbscan-0.8.27.tar.gz (6.4MB)\n",
      "\u001b[K    100% |████████████████████████████████| 6.4MB 4.5MB/s eta 0:00:01\n",
      "\u001b[?25h  Installing build dependencies ... \u001b[?25ldone\n",
      "\u001b[?25h  Getting requirements to build wheel ... \u001b[?25ldone\n",
      "\u001b[?25h    Preparing wheel metadata ... \u001b[?25ldone\n",
      "\u001b[?25hCollecting pacmap\n",
      "  Downloading https://files.pythonhosted.org/packages/71/e3/63e548cfe49150aecb187385901588254ee398f7938a71a40de706e4fa66/pacmap-0.4-py3-none-any.whl\n",
      "Requirement already satisfied: filelock in /Users/jessica/anaconda3/lib/python3.7/site-packages (from transformers) (3.0.10)\n",
      "Collecting tokenizers<0.11,>=0.10.1 (from transformers)\n",
      "\u001b[?25l  Downloading https://files.pythonhosted.org/packages/d1/43/518de4fc320cf51c967202bc8fe2f2acf348a1119c7f5660f65bba6841f4/tokenizers-0.10.2-cp37-cp37m-macosx_10_11_x86_64.whl (2.3MB)\n",
      "\u001b[K    100% |████████████████████████████████| 2.3MB 9.6MB/s eta 0:00:01\n",
      "\u001b[?25hRequirement already satisfied: numpy>=1.17 in /Users/jessica/anaconda3/lib/python3.7/site-packages (from transformers) (1.19.5)\n",
      "Collecting sacremoses (from transformers)\n",
      "\u001b[?25l  Downloading https://files.pythonhosted.org/packages/75/ee/67241dc87f266093c533a2d4d3d69438e57d7a90abb216fa076e7d475d4a/sacremoses-0.0.45-py3-none-any.whl (895kB)\n",
      "\u001b[K    100% |████████████████████████████████| 901kB 14.8MB/s ta 0:00:01\n",
      "\u001b[?25hRequirement already satisfied: importlib-metadata; python_version < \"3.8\" in /Users/jessica/anaconda3/lib/python3.7/site-packages (from transformers) (4.0.0)\n",
      "Requirement already satisfied: tqdm>=4.27 in /Users/jessica/anaconda3/lib/python3.7/site-packages (from transformers) (4.60.0)\n",
      "Collecting regex!=2019.12.17 (from transformers)\n",
      "\u001b[?25l  Downloading https://files.pythonhosted.org/packages/6b/02/5d8634b1848274caa6e25d69d83ca37668b4d718ed9a11bb2aa0c63af665/regex-2021.4.4-cp37-cp37m-macosx_10_9_x86_64.whl (285kB)\n",
      "\u001b[K    100% |████████████████████████████████| 286kB 25.2MB/s ta 0:00:01\n",
      "\u001b[?25hRequirement already satisfied: requests in /Users/jessica/anaconda3/lib/python3.7/site-packages (from transformers) (2.25.1)\n",
      "Requirement already satisfied: packaging in /Users/jessica/anaconda3/lib/python3.7/site-packages (from transformers) (19.0)\n",
      "Requirement already satisfied: scikit-learn>=0.20 in /Users/jessica/anaconda3/lib/python3.7/site-packages (from hdbscan) (0.23.2)\n",
      "Requirement already satisfied: joblib>=1.0 in /Users/jessica/anaconda3/lib/python3.7/site-packages (from hdbscan) (1.0.1)\n",
      "Requirement already satisfied: scipy>=1.0 in /Users/jessica/anaconda3/lib/python3.7/site-packages (from hdbscan) (1.2.1)\n",
      "Requirement already satisfied: six in /Users/jessica/anaconda3/lib/python3.7/site-packages (from hdbscan) (1.12.0)\n",
      "Requirement already satisfied: cython>=0.27 in /Users/jessica/anaconda3/lib/python3.7/site-packages (from hdbscan) (0.29.6)\n",
      "Collecting annoy>=1.11 (from pacmap)\n",
      "\u001b[?25l  Downloading https://files.pythonhosted.org/packages/f3/27/c54c1ae6dec6a81b5304ce63d57a36c1cf560aa7f53220e2f18e20e61310/annoy-1.17.0-cp37-cp37m-macosx_10_14_x86_64.whl (75kB)\n",
      "\u001b[K    100% |████████████████████████████████| 81kB 19.3MB/s ta 0:00:01\n",
      "\u001b[?25hRequirement already satisfied: numba>=0.34 in /Users/jessica/anaconda3/lib/python3.7/site-packages (from pacmap) (0.43.1)\n",
      "Requirement already satisfied: click in /Users/jessica/anaconda3/lib/python3.7/site-packages (from sacremoses->transformers) (7.0)\n",
      "Requirement already satisfied: typing-extensions>=3.6.4; python_version < \"3.8\" in /Users/jessica/anaconda3/lib/python3.7/site-packages (from importlib-metadata; python_version < \"3.8\"->transformers) (3.7.4.3)\n",
      "Requirement already satisfied: zipp>=0.5 in /Users/jessica/anaconda3/lib/python3.7/site-packages (from importlib-metadata; python_version < \"3.8\"->transformers) (3.4.1)\n",
      "Requirement already satisfied: urllib3<1.27,>=1.21.1 in /Users/jessica/anaconda3/lib/python3.7/site-packages (from requests->transformers) (1.24.1)\n",
      "Requirement already satisfied: certifi>=2017.4.17 in /Users/jessica/anaconda3/lib/python3.7/site-packages (from requests->transformers) (2019.3.9)\n",
      "Requirement already satisfied: chardet<5,>=3.0.2 in /Users/jessica/anaconda3/lib/python3.7/site-packages (from requests->transformers) (3.0.4)\n",
      "Requirement already satisfied: idna<3,>=2.5 in /Users/jessica/anaconda3/lib/python3.7/site-packages (from requests->transformers) (2.8)\n",
      "Requirement already satisfied: pyparsing>=2.0.2 in /Users/jessica/anaconda3/lib/python3.7/site-packages (from packaging->transformers) (2.3.1)\n",
      "Requirement already satisfied: threadpoolctl>=2.0.0 in /Users/jessica/anaconda3/lib/python3.7/site-packages (from scikit-learn>=0.20->hdbscan) (2.1.0)\n",
      "Requirement already satisfied: llvmlite>=0.28.0dev0 in /Users/jessica/anaconda3/lib/python3.7/site-packages (from numba>=0.34->pacmap) (0.28.0)\n",
      "Building wheels for collected packages: hdbscan\n",
      "  Building wheel for hdbscan (PEP 517) ... \u001b[?25ldone\n",
      "\u001b[?25h  Stored in directory: /Users/jessica/Library/Caches/pip/wheels/42/63/fb/314ad6c3b270887a3ecb588b8e5aac50b0fad38ff89bb6dff2\n",
      "Successfully built hdbscan\n",
      "Installing collected packages: tokenizers, regex, sacremoses, transformers, hdbscan, annoy, pacmap\n",
      "Successfully installed annoy-1.17.0 hdbscan-0.8.27 pacmap-0.4 regex-2021.4.4 sacremoses-0.0.45 tokenizers-0.10.2 transformers-4.5.1\n"
     ]
    }
   ],
   "source": [
    "!pip install transformers hdbscan pacmap"
   ]
  },
  {
   "cell_type": "markdown",
   "metadata": {},
   "source": [
    "### Load the Dataset"
   ]
  },
  {
   "cell_type": "code",
   "execution_count": 1,
   "metadata": {},
   "outputs": [],
   "source": [
    "import pandas as pd\n",
    "import numpy as np\n",
    "\n",
    "df = pd.read_csv(\"ARC-Easy-Train.csv\")"
   ]
  },
  {
   "cell_type": "markdown",
   "metadata": {},
   "source": [
    "### Load Transformer Model"
   ]
  },
  {
   "cell_type": "code",
   "execution_count": 2,
   "metadata": {},
   "outputs": [
    {
     "data": {
      "application/vnd.jupyter.widget-view+json": {
       "model_id": "fe2884d874f04afd81d5117c2ba57b75",
       "version_major": 2,
       "version_minor": 0
      },
      "text/plain": [
       "Downloading:   0%|          | 0.00/588 [00:00<?, ?B/s]"
      ]
     },
     "metadata": {},
     "output_type": "display_data"
    },
    {
     "data": {
      "application/vnd.jupyter.widget-view+json": {
       "model_id": "dac08db59e264e05a34dfa7e3e8bb852",
       "version_major": 2,
       "version_minor": 0
      },
      "text/plain": [
       "Downloading:   0%|          | 0.00/1.42G [00:00<?, ?B/s]"
      ]
     },
     "metadata": {},
     "output_type": "display_data"
    },
    {
     "data": {
      "application/vnd.jupyter.widget-view+json": {
       "model_id": "66763e15184347799266766b0c6600f3",
       "version_major": 2,
       "version_minor": 0
      },
      "text/plain": [
       "Downloading:   0%|          | 0.00/798k [00:00<?, ?B/s]"
      ]
     },
     "metadata": {},
     "output_type": "display_data"
    },
    {
     "data": {
      "application/vnd.jupyter.widget-view+json": {
       "model_id": "dd02f0fda679441d804eaefdf0eec500",
       "version_major": 2,
       "version_minor": 0
      },
      "text/plain": [
       "Downloading:   0%|          | 0.00/456k [00:00<?, ?B/s]"
      ]
     },
     "metadata": {},
     "output_type": "display_data"
    },
    {
     "data": {
      "application/vnd.jupyter.widget-view+json": {
       "model_id": "4850e7d8c2b241e8b1be0b8b6fe9bfb6",
       "version_major": 2,
       "version_minor": 0
      },
      "text/plain": [
       "Downloading:   0%|          | 0.00/2.00 [00:00<?, ?B/s]"
      ]
     },
     "metadata": {},
     "output_type": "display_data"
    },
    {
     "data": {
      "application/vnd.jupyter.widget-view+json": {
       "model_id": "0aa71ce19ab9404cbb59164186d8832b",
       "version_major": 2,
       "version_minor": 0
      },
      "text/plain": [
       "Downloading:   0%|          | 0.00/239 [00:00<?, ?B/s]"
      ]
     },
     "metadata": {},
     "output_type": "display_data"
    },
    {
     "data": {
      "application/vnd.jupyter.widget-view+json": {
       "model_id": "4c88909b540f42139199946d98fd8db8",
       "version_major": 2,
       "version_minor": 0
      },
      "text/plain": [
       "Downloading:   0%|          | 0.00/256 [00:00<?, ?B/s]"
      ]
     },
     "metadata": {},
     "output_type": "display_data"
    }
   ],
   "source": [
    "from tqdm import tqdm\n",
    "from transformers import AutoTokenizer, AutoModel\n",
    "from itertools import zip_longest\n",
    "import torch\n",
    "\n",
    "def grouper(iterable, n, fillvalue=None):\n",
    "    \"\"\"Taken from: https://docs.python.org/3/library/itertools.html#itertools-recipes\"\"\"\n",
    "    args = [iter(iterable)] * n\n",
    "    return zip_longest(*args, fillvalue=fillvalue)\n",
    "\n",
    "\n",
    "def mean_pooling(model_output, attention_mask):\n",
    "    \"\"\"\n",
    "    Mean pooling to get sentence embeddings. See:\n",
    "    https://huggingface.co/sentence-transformers/paraphrase-distilroberta-base-v1\n",
    "    \"\"\"\n",
    "    token_embeddings = model_output[0]\n",
    "    input_mask_expanded = attention_mask.unsqueeze(-1).expand(token_embeddings.size()).float()\n",
    "    sum_embeddings = torch.sum(token_embeddings * input_mask_expanded, 1) # Sum columns\n",
    "    sum_mask = torch.clamp(input_mask_expanded.sum(1), min=1e-9)\n",
    "    return sum_embeddings / sum_mask\n",
    "\n",
    "# Sentence to embed\n",
    "df = df[df.question.str.contains('\\?')]\n",
    "df.question = [s.split('?')[0] + '?' for s in df.question]\n",
    "\n",
    "# Fetch the model & tokenizer from transformers library\n",
    "model_name = 'sentence-transformers/stsb-roberta-large'\n",
    "model = AutoModel.from_pretrained(model_name)\n",
    "tokenizer = AutoTokenizer.from_pretrained(model_name)"
   ]
  },
  {
   "cell_type": "markdown",
   "metadata": {},
   "source": [
    "### Sentence Embeddings"
   ]
  },
  {
   "cell_type": "code",
   "execution_count": 3,
   "metadata": {},
   "outputs": [
    {
     "name": "stderr",
     "output_type": "stream",
     "text": [
      "223it [13:35,  3.66s/it]\n"
     ]
    }
   ],
   "source": [
    "sentence_embeddings = []\n",
    "token_embeddings = []\n",
    "\n",
    "# Embed 8 sentences at a time\n",
    "for sentences in tqdm(grouper(df.question.tolist(),8,None)):\n",
    "    \n",
    "    # Ignore sentences with None\n",
    "    valid_sentences = [s for s in sentences if s]\n",
    "    \n",
    "    # Tokenize input\n",
    "    encoded_input = tokenizer(valid_sentences, padding=True, \n",
    "                              truncation=True, max_length=512, \n",
    "                              return_tensors=\"pt\")\n",
    "    # Create word embeddings\n",
    "    model_output = model(**encoded_input)\n",
    "    \n",
    "    # For each sentence, store a list of token embeddings;\n",
    "    # i.e. a 1024 dimensional vector for each token\n",
    "    for i, sentence in enumerate(valid_sentences):\n",
    "        tokens = tokenizer.convert_ids_to_tokens(encoded_input['input_ids'][i])\n",
    "        embeddings = model_output[0][i]\n",
    "        token_embeddings.append(\n",
    "            [{\"token\": token, \"embedding\": embedding.detach().numpy()} for token, embedding in zip(tokens, embeddings)]\n",
    "        )\n",
    "        \n",
    "    # Pool to get sentence embeddings; i.e. generate one 1024 \n",
    "    # vector for the entire sentence\n",
    "    sentence_embeddings.append( \n",
    "        mean_pooling(model_output, encoded_input['attention_mask']).detach().numpy()\n",
    "    )\n",
    "    \n",
    "# Concatenate all embeddings into 1 numpy array of shape(n_sentences, 1024)\n",
    "sentence_embeddings = np.concatenate(sentence_embeddings)"
   ]
  },
  {
   "cell_type": "markdown",
   "metadata": {},
   "source": [
    "### Perform Search & Show Search Context"
   ]
  },
  {
   "cell_type": "code",
   "execution_count": 9,
   "metadata": {},
   "outputs": [
    {
     "name": "stderr",
     "output_type": "stream",
     "text": [
      "/Users/jessica/anaconda3/lib/python3.7/site-packages/ipykernel_launcher.py:38: UserWarning: FixedFormatter should only be used together with FixedLocator\n",
      "/Users/jessica/anaconda3/lib/python3.7/site-packages/ipykernel_launcher.py:39: UserWarning: FixedFormatter should only be used together with FixedLocator\n"
     ]
    },
    {
     "data": {
      "image/png": "[encoded data removed]",
      "text/plain": [
       "<Figure size 900x600 with 2 Axes>"
      ]
     },
     "metadata": {
      "needs_background": "light"
     },
     "output_type": "display_data"
    }
   ],
   "source": [
    "from IPython.core.display import display, HTML\n",
    "from sklearn.preprocessing import normalize\n",
    "import matplotlib.ticker as ticker\n",
    "import matplotlib.pyplot as plt\n",
    "\n",
    "# Normalize the data\n",
    "norm_data = normalize(sentence_embeddings, norm='l2')\n",
    "\n",
    "# Set QUERY & BEST MATCH IDs\n",
    "QUERY_ID = 0\n",
    "scores = np.dot(norm_data, norm_data[QUERY_ID].T)\n",
    "MATCH_ID = np.argsort(scores)[-2]\n",
    "\n",
    "def get_token_embeddings(embeddings_word):\n",
    "    \"\"\"Returns a list of tokens and list of embeddings\"\"\"\n",
    "    tokens, embeddings = [], []\n",
    "    for word in embeddings_word:\n",
    "        if word['token'] not in ['<s>', '<pad>', '</pad>', '</s>']:\n",
    "            tokens.append(word['token'].replace('Ġ', ''))\n",
    "            embeddings.append(word['embedding'])    \n",
    "    return tokens, normalize(embeddings, norm='l2')\n",
    "\n",
    "# Get tokens & token embeddings\n",
    "query_tokens, query_token_embeddings = get_token_embeddings(token_embeddings[QUERY_ID])\n",
    "match_tokens, match_token_embeddings = get_token_embeddings(token_embeddings[MATCH_ID])\n",
    "\n",
    "# Calculate cosine similarity between all tokens in query and match sentences\n",
    "attention = (query_token_embeddings @ match_token_embeddings.T)\n",
    "\n",
    "def plot_attention(src, trg, attention):\n",
    "    \"\"\"Plot 2D plot of cosine similarities\"\"\"\n",
    "    fig = plt.figure(dpi=150)\n",
    "    ax = fig.add_subplot(111)\n",
    "    cax = ax.matshow(attention, interpolation='nearest')\n",
    "    clb = fig.colorbar(cax)\n",
    "    ax.xaxis.set_major_locator(ticker.MultipleLocator(1))\n",
    "    ax.yaxis.set_major_locator(ticker.MultipleLocator(1))\n",
    "    ax.set_xticklabels([''] + src, rotation=90)\n",
    "    ax.set_yticklabels([''] + trg)\n",
    "    \n",
    "plot_attention(match_tokens, query_tokens, attention)"
   ]
  }
 ],
 "metadata": {
  "kernelspec": {
   "display_name": "Python 3",
   "language": "python",
   "name": "python3"
  },
  "language_info": {
   "codemirror_mode": {
    "name": "ipython",
    "version": 3
   },
   "file_extension": ".py",
   "mimetype": "text/x-python",
   "name": "python",
   "nbconvert_exporter": "python",
   "pygments_lexer": "ipython3",
   "version": "3.7.3"
  }
 },
 "nbformat": 4,
 "nbformat_minor": 2
}
